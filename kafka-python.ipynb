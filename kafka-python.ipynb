{
 "cells": [
  {
   "cell_type": "code",
   "execution_count": null,
   "metadata": {},
   "outputs": [],
   "source": [
    "%run create_topic -t test"
   ]
  },
  {
   "cell_type": "code",
   "execution_count": null,
   "metadata": {},
   "outputs": [],
   "source": [
    "%run produce -t test_docker -n 100 -s 1"
   ]
  },
  {
   "cell_type": "code",
   "execution_count": null,
   "metadata": {
    "tags": []
   },
   "outputs": [],
   "source": [
    "%run consume -t test_docker"
   ]
  },
  {
   "cell_type": "markdown",
   "metadata": {},
   "source": [
    "# Read from Kafka and insert into Mongo"
   ]
  },
  {
   "cell_type": "code",
   "execution_count": null,
   "metadata": {
    "tags": []
   },
   "outputs": [],
   "source": [
    "from pprint import pprint\n",
    "from pymongo import MongoClient\n",
    "from dotenv import load_dotenv\n",
    "from kafka import KafkaConsumer\n",
    "from json import loads\n",
    "\n",
    "import os\n",
    "\n",
    "load_dotenv()\n",
    "\n",
    "USER = os.environ.get('MONGO_USER')\n",
    "PASSWORD = os.environ.get('MONGO_PASSWORD')\n",
    "\n",
    "client = MongoClient('localhost', port=27017, username=USER, password=PASSWORD)\n",
    "\n",
    "# get mongo db and collection\n",
    "db = client['test_db']\n",
    "test_kafka_collection = db['test_kafka_2']\n",
    "\n",
    "# server = db.command(\"serverStatus\")\n",
    "# pprint(server)\n",
    "\n",
    "# get Kafka messages\n",
    "consumer = KafkaConsumer(\n",
    "    'test_docker',\n",
    "     bootstrap_servers=['localhost:9092'],\n",
    "     auto_offset_reset='earliest',\n",
    "     enable_auto_commit=True,\n",
    "     session_timeout_ms=1000,\n",
    "     consumer_timeout_ms=1000,\n",
    "     value_deserializer=lambda x: loads(x.decode('utf-8')))\n",
    "\n",
    "bulk_insert = []\n",
    "\n",
    "for m in consumer:\n",
    "#     print(f\"{m}\")    \n",
    "#     print(f\"{m.value}\")\n",
    "    value = {\n",
    "        'time': m.timestamp,\n",
    "        'number': m.value['number']\n",
    "    }\n",
    "    \n",
    "    bulk_insert.append(value)\n",
    "    \n",
    "# insert into collection in mongodb db\n",
    "test_kafka_collection.insert_many(bulk_insert)"
   ]
  },
  {
   "cell_type": "markdown",
   "metadata": {},
   "source": [
    "# Print and Consumer Data from Mongo"
   ]
  },
  {
   "cell_type": "code",
   "execution_count": null,
   "metadata": {},
   "outputs": [],
   "source": [
    "from pprint import pprint\n",
    "from pymongo import MongoClient\n",
    "from dotenv import load_dotenv\n",
    "\n",
    "import os\n",
    "\n",
    "load_dotenv()\n",
    "\n",
    "USER = os.environ.get('MONGO_USER')\n",
    "PASSWORD = os.environ.get('MONGO_PASSWORD')\n",
    "\n",
    "client = MongoClient('localhost', port=27017, username=USER, password=PASSWORD)\n",
    "\n",
    "# get mongo db and collection\n",
    "db = client['test_db']\n",
    "test_kafka_collection = db['test_kafka_2']\n",
    "print(test_kafka_collection.count_documents({}))\n",
    "for m in test_kafka_collection.find():\n",
    "    pprint(m)"
   ]
  },
  {
   "cell_type": "code",
   "execution_count": null,
   "metadata": {},
   "outputs": [],
   "source": []
  }
 ],
 "metadata": {
  "kernelspec": {
   "display_name": "Python 3 (ipykernel)",
   "language": "python",
   "name": "python3"
  },
  "language_info": {
   "codemirror_mode": {
    "name": "ipython",
    "version": 3
   },
   "file_extension": ".py",
   "mimetype": "text/x-python",
   "name": "python",
   "nbconvert_exporter": "python",
   "pygments_lexer": "ipython3",
   "version": "3.9.4"
  }
 },
 "nbformat": 4,
 "nbformat_minor": 4
}
